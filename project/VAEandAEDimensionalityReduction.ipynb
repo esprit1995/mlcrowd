{
 "cells": [
  {
   "cell_type": "code",
   "execution_count": 1,
   "metadata": {},
   "outputs": [],
   "source": [
    "# make necessary imports\n",
    "import torch\n",
    "import torch.nn as nn\n",
    "import torch.optim as optim\n",
    "import torch.nn.functional as F\n",
    "import torch.utils.data\n",
    "from torch.optim import *\n",
    "import torchvision\n",
    "import torchvision.transforms as transforms\n",
    "import matplotlib.pyplot as plt\n",
    "from torchvision.utils import save_image"
   ]
  },
  {
   "cell_type": "code",
   "execution_count": null,
   "metadata": {},
   "outputs": [],
   "source": [
    "class VAE(nn.Module):\n",
    "    \"\"\"\n",
    "    parametrizable VAE module\n",
    "    \"\"\"\n",
    "    def __init__(self, dim_input, dim_output):\n",
    "        \"\"\"\n",
    "        flexible constructor for Neural network: allow for user-defined input \n",
    "        and latent space dimensions\n",
    "        :param dim_input: required, dimensionality of input data\n",
    "        .param dim_output: required, dimensionality of latent space\n",
    "        \"\"\"\n",
    "        super(VAE, self).__init__()\n",
    "        \n",
    "        self.fc1  = nn.Linear(dim_input, 400)\n",
    "        self.fc21 = nn.Linear(400, dim_output)\n",
    "        self.fc22 = nn.Linear(400, dim_output)\n",
    "        self.fc3  = nn.Linear(dim_output, 400)\n",
    "        self.fc4  = nn.Linear(400, dim_input)\n",
    "    \n",
    "    \n",
    "    def encode(self, X):\n",
    "        \"\"\"\n",
    "        encodes the input image into two vectors: mean and variance\n",
    "        :param X: input data in torch Tensor format\n",
    "        :returns: mu and var\n",
    "        \"\"\"\n",
    "        hidden1 = F.relu(self.fc1(X))\n",
    "        return self.fc21(hidden1), self.fc22(hidden1)\n",
    "    \n",
    "    \n",
    "    def reparameterize(self, mu, logvar):\n",
    "        \"\"\"\n",
    "        implementation of the reparameterization trick, allowing for training with random sampling\n",
    "        :param mu: mean values tensor\n",
    "        :param var: logvariance tensor\n",
    "        :returns: random tensor from the Gaussian distribution\n",
    "        \"\"\"\n",
    "        # get variance\n",
    "        std = torch.exp(0.5*logvar)\n",
    "        \n",
    "        # get random tensor from normal distribution of mean 0 and var 1 of size like std\n",
    "        eps = torch.randn_like(std)\n",
    "        return mu+eps*std\n",
    "    \n",
    "    \n",
    "    def decode(self, z):\n",
    "        \"\"\"\n",
    "        project a tensor from the latent space back into original coordinates\n",
    "        :param z: tensor in the latent space to be decoded\n",
    "        \"\"\"\n",
    "        hidden3 = F.relu(self.fc3(z))\n",
    "        return torch.sigmoid(self.fc4(hidden3))\n",
    "    \n",
    "    \n",
    "    def forward(self, x):\n",
    "        \"\"\"\n",
    "        forward function of VAE NN\n",
    "        :param x: input image in torch Tensor format\n",
    "        returns: x decoded from latent space along with mean and logvar tensors\n",
    "        \"\"\"\n",
    "        mu, logvar = self.encode(x.view(-1, 784))\n",
    "        z = self.reparameterize(mu, logvar)\n",
    "        return self.decode(z), mu, logvar "
   ]
  },
  {
   "cell_type": "code",
   "execution_count": 7,
   "metadata": {},
   "outputs": [],
   "source": [
    "path = \"../../bigassdata/GoogleNews-vectors-negative300.bin\"\n",
    "dt = np.dtype([(str(i), \"f4\") for i in range(1,301)])"
   ]
  },
  {
   "cell_type": "code",
   "execution_count": 8,
   "metadata": {},
   "outputs": [],
   "source": [
    "import numpy as np\n",
    "with open(path) as file:\n",
    "    data = np.fromfile(file, dtype=dt)"
   ]
  },
  {
   "cell_type": "code",
   "execution_count": 9,
   "metadata": {},
   "outputs": [],
   "source": [
    "import pandas as pd\n",
    "df = pd.DataFrame(data)"
   ]
  },
  {
   "cell_type": "code",
   "execution_count": 10,
   "metadata": {},
   "outputs": [
    {
     "data": {
      "text/plain": [
       "(3036882, 300)"
      ]
     },
     "execution_count": 10,
     "metadata": {},
     "output_type": "execute_result"
    }
   ],
   "source": [
    "df.shape"
   ]
  },
  {
   "cell_type": "code",
   "execution_count": 11,
   "metadata": {},
   "outputs": [
    {
     "data": {
      "text/html": [
       "<div>\n",
       "<style scoped>\n",
       "    .dataframe tbody tr th:only-of-type {\n",
       "        vertical-align: middle;\n",
       "    }\n",
       "\n",
       "    .dataframe tbody tr th {\n",
       "        vertical-align: top;\n",
       "    }\n",
       "\n",
       "    .dataframe thead th {\n",
       "        text-align: right;\n",
       "    }\n",
       "</style>\n",
       "<table border=\"1\" class=\"dataframe\">\n",
       "  <thead>\n",
       "    <tr style=\"text-align: right;\">\n",
       "      <th></th>\n",
       "      <th>1</th>\n",
       "      <th>2</th>\n",
       "      <th>3</th>\n",
       "      <th>4</th>\n",
       "      <th>5</th>\n",
       "      <th>6</th>\n",
       "      <th>7</th>\n",
       "      <th>8</th>\n",
       "      <th>9</th>\n",
       "      <th>10</th>\n",
       "      <th>...</th>\n",
       "      <th>291</th>\n",
       "      <th>292</th>\n",
       "      <th>293</th>\n",
       "      <th>294</th>\n",
       "      <th>295</th>\n",
       "      <th>296</th>\n",
       "      <th>297</th>\n",
       "      <th>298</th>\n",
       "      <th>299</th>\n",
       "      <th>300</th>\n",
       "    </tr>\n",
       "  </thead>\n",
       "  <tbody>\n",
       "    <tr>\n",
       "      <th>0</th>\n",
       "      <td>6.409692e-10</td>\n",
       "      <td>1.492372e-19</td>\n",
       "      <td>8.483157e-33</td>\n",
       "      <td>2.374849e-01</td>\n",
       "      <td>-6.462373e-27</td>\n",
       "      <td>1.547436e+26</td>\n",
       "      <td>-1.776396e-15</td>\n",
       "      <td>-524291.562500</td>\n",
       "      <td>-1.009749e-28</td>\n",
       "      <td>-0.000031</td>\n",
       "      <td>...</td>\n",
       "      <td>4.440923e-16</td>\n",
       "      <td>-2.842234e-14</td>\n",
       "      <td>-2.351005e-38</td>\n",
       "      <td>2.524411e-29</td>\n",
       "      <td>-8.388794e+06</td>\n",
       "      <td>-1.192119e-07</td>\n",
       "      <td>1.701424e+38</td>\n",
       "      <td>5.629623e+14</td>\n",
       "      <td>-2.910448e-11</td>\n",
       "      <td>-1.654373e-24</td>\n",
       "    </tr>\n",
       "    <tr>\n",
       "      <th>1</th>\n",
       "      <td>2.584957e-26</td>\n",
       "      <td>-1.342187e+08</td>\n",
       "      <td>2.351041e-38</td>\n",
       "      <td>-4.768477e-07</td>\n",
       "      <td>2.019436e-19</td>\n",
       "      <td>7.031250e-02</td>\n",
       "      <td>8.691406e-02</td>\n",
       "      <td>0.087891</td>\n",
       "      <td>6.250000e-02</td>\n",
       "      <td>0.069336</td>\n",
       "      <td>...</td>\n",
       "      <td>6.396484e-02</td>\n",
       "      <td>-1.064453e-01</td>\n",
       "      <td>-1.435547e-01</td>\n",
       "      <td>-4.223633e-02</td>\n",
       "      <td>2.404785e-02</td>\n",
       "      <td>-1.689453e-01</td>\n",
       "      <td>-8.886719e-02</td>\n",
       "      <td>-8.056641e-02</td>\n",
       "      <td>6.494141e-02</td>\n",
       "      <td>6.127930e-02</td>\n",
       "    </tr>\n",
       "  </tbody>\n",
       "</table>\n",
       "<p>2 rows × 300 columns</p>\n",
       "</div>"
      ],
      "text/plain": [
       "              1             2             3             4             5  \\\n",
       "0  6.409692e-10  1.492372e-19  8.483157e-33  2.374849e-01 -6.462373e-27   \n",
       "1  2.584957e-26 -1.342187e+08  2.351041e-38 -4.768477e-07  2.019436e-19   \n",
       "\n",
       "              6             7              8             9        10  ...  \\\n",
       "0  1.547436e+26 -1.776396e-15 -524291.562500 -1.009749e-28 -0.000031  ...   \n",
       "1  7.031250e-02  8.691406e-02       0.087891  6.250000e-02  0.069336  ...   \n",
       "\n",
       "            291           292           293           294           295  \\\n",
       "0  4.440923e-16 -2.842234e-14 -2.351005e-38  2.524411e-29 -8.388794e+06   \n",
       "1  6.396484e-02 -1.064453e-01 -1.435547e-01 -4.223633e-02  2.404785e-02   \n",
       "\n",
       "            296           297           298           299           300  \n",
       "0 -1.192119e-07  1.701424e+38  5.629623e+14 -2.910448e-11 -1.654373e-24  \n",
       "1 -1.689453e-01 -8.886719e-02 -8.056641e-02  6.494141e-02  6.127930e-02  \n",
       "\n",
       "[2 rows x 300 columns]"
      ]
     },
     "execution_count": 11,
     "metadata": {},
     "output_type": "execute_result"
    }
   ],
   "source": [
    "df.head(2)"
   ]
  },
  {
   "cell_type": "code",
   "execution_count": null,
   "metadata": {},
   "outputs": [],
   "source": [
    "df.head(10000).to_csv(\"word2vec_4.csv\")\n",
    "df.head(100000).to_csv(\"word2vec_5.csv\")\n",
    "df.head(500000).to_csv(\"word2vec_6.csv\")\n",
    "df.head(1000000).to_csv(\"word2vec_7.csv\")"
   ]
  },
  {
   "cell_type": "code",
   "execution_count": null,
   "metadata": {},
   "outputs": [],
   "source": []
  }
 ],
 "metadata": {
  "kernelspec": {
   "display_name": "Python 3",
   "language": "python",
   "name": "python3"
  },
  "language_info": {
   "codemirror_mode": {
    "name": "ipython",
    "version": 3
   },
   "file_extension": ".py",
   "mimetype": "text/x-python",
   "name": "python",
   "nbconvert_exporter": "python",
   "pygments_lexer": "ipython3",
   "version": "3.5.2"
  }
 },
 "nbformat": 4,
 "nbformat_minor": 2
}
