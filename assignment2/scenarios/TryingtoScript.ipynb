{
 "cells": [
  {
   "cell_type": "code",
   "execution_count": 2,
   "metadata": {},
   "outputs": [],
   "source": [
    "import json"
   ]
  },
  {
   "cell_type": "code",
   "execution_count": 3,
   "metadata": {},
   "outputs": [],
   "source": [
    "with open(\"Q1Corner.scenario\", \"r\") as f:\n",
    "    datastore = json.load(f)\n",
    "f.close()"
   ]
  },
  {
   "cell_type": "code",
   "execution_count": 4,
   "metadata": {},
   "outputs": [
    {
     "name": "stdout",
     "output_type": "stream",
     "text": [
      "20\n"
     ]
    }
   ],
   "source": [
    "# update name\n",
    "datastore[\"name\"] = \"Q1CornerUpdated.scenario\"\n",
    "\n",
    "print(len(datastore[\"scenario\"][\"topography\"][\"dynamicElements\"]))\n",
    "# add pedestrian\n",
    "datastore[\"scenario\"][\"topography\"][\"dynamicElements\"]=add_pedestrian(datastore, x=11.5, y=9.0, targets=[1])\n",
    "with open(\"Q1CornerUpdated.scenario\", \"w\") as f:\n",
    "    json.dump(datastore, f)"
   ]
  },
  {
   "cell_type": "code",
   "execution_count": 1,
   "metadata": {},
   "outputs": [],
   "source": [
    "def add_pedestrian(scenario_json,\n",
    "                   x, y, \n",
    "                   xvelocity=1, \n",
    "                   yvelocity=1, \n",
    "                   targets=[],\n",
    "                   minimumspeed=1,\n",
    "                   maximumspeed=1, \n",
    "                   acceleration=0,\n",
    "                   freeflowSpeed=1):\n",
    "    \"\"\"\n",
    "    Adds a pedestrian in the scenario_json with specified parameters\n",
    "    Accepts parameters to set and a scenario in json format\n",
    "    Returns updated dynamicElements attribute\n",
    "    \"\"\"\n",
    "    \n",
    "    dynamicElements = scenario_json[\"scenario\"][\"topography\"][\"dynamicElements\"]    \n",
    "    basePedestrian = {\n",
    "        \"source\" : None,\n",
    "        \"targetIds\" : [],\n",
    "        \"position\" : {\n",
    "          \"x\" : 0.0,\n",
    "          \"y\" : 0.0\n",
    "        },\n",
    "        \"velocity\" : {\n",
    "          \"x\" : 0.0,\n",
    "          \"y\" : 0.0\n",
    "        },\n",
    "        \"nextTargetListIndex\" : 0,\n",
    "        \"freeFlowSpeed\" : 1.0,\n",
    "        \"attributes\" : {\n",
    "          \"id\" : -1,\n",
    "          \"radius\" : 0.2,\n",
    "          \"densityDependentSpeed\" : False,\n",
    "          \"speedDistributionMean\" : 1.0,\n",
    "          \"speedDistributionStandardDeviation\" : 0.0,\n",
    "          \"minimumSpeed\" : 1.0,\n",
    "          \"maximumSpeed\" : 1.0,\n",
    "          \"acceleration\" : 0.0,\n",
    "          \"footStepsToStore\" : 4,\n",
    "          \"searchRadius\" : 1.0,\n",
    "          \"angleCalculationType\" : \"USE_CENTER\",\n",
    "          \"targetOrientationAngleThreshold\" : 45.0\n",
    "        },\n",
    "        \"idAsTarget\" : -1,\n",
    "        \"isChild\" : False,\n",
    "        \"isLikelyInjured\" : False,\n",
    "        \"mostImportantEvent\" : None,\n",
    "        \"salientBehavior\" : \"TARGET_ORIENTED\",\n",
    "        \"groupIds\" : [ ],\n",
    "        \"trajectory\" : {\n",
    "          \"footSteps\" : [ ]\n",
    "        },\n",
    "        \"groupSizes\" : [ ],\n",
    "        \"modelPedestrianMap\" : None,\n",
    "        \"type\" : \"PEDESTRIAN\"\n",
    "      }\n",
    "    \n",
    "    # set location\n",
    "    basePedestrian[\"position\"][\"x\"] = x\n",
    "    basePedestrian[\"position\"][\"y\"] = y\n",
    "    \n",
    "    # set targets\n",
    "    basePedestrian[\"targetIds\"] = [i for i in targets]\n",
    "    \n",
    "    # set velocity\n",
    "    basePedestrian[\"velocity\"][\"x\"] = xvelocity\n",
    "    basePedestrian[\"velocity\"][\"y\"] = yvelocity\n",
    "    \n",
    "    # set speed and acceleration\n",
    "    basePedestrian[\"attributes\"][\"minimumSpeed\"] = minimumspeed\n",
    "    basePedestrian[\"attributes\"][\"maximumSpeed\"] = maximumspeed\n",
    "    basePedestrian[\"attributes\"][\"acceleration\"] = acceleration\n",
    "    \n",
    "    # set freeflowSpeed\n",
    "    basePedestrian[\"freeFlowSpeed\"] = freeflowSpeed\n",
    "    \n",
    "    # add the resulting pedestrian\n",
    "    dynamicElements.append(basePedestrian)\n",
    "    \n",
    "    return dynamicElements"
   ]
  },
  {
   "cell_type": "code",
   "execution_count": null,
   "metadata": {},
   "outputs": [],
   "source": []
  }
 ],
 "metadata": {
  "kernelspec": {
   "display_name": "Python 3",
   "language": "python",
   "name": "python3"
  },
  "language_info": {
   "codemirror_mode": {
    "name": "ipython",
    "version": 3
   },
   "file_extension": ".py",
   "mimetype": "text/x-python",
   "name": "python",
   "nbconvert_exporter": "python",
   "pygments_lexer": "ipython3",
   "version": "3.5.2"
  }
 },
 "nbformat": 4,
 "nbformat_minor": 2
}
